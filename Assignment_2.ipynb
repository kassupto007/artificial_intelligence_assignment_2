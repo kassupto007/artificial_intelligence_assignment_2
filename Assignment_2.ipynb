{
 "cells": [
  {
   "cell_type": "markdown",
   "id": "6c27b675",
   "metadata": {},
   "source": [
    "# Why Jupyter Notebook Awesome"
   ]
  },
  {
   "cell_type": "markdown",
   "id": "49209240",
   "metadata": {},
   "source": [
    "- You can run code cell by cell.\n",
    "- You can add methods to your class on the fly. "
   ]
  },
  {
   "cell_type": "code",
   "execution_count": 34,
   "id": "e0f0d9ad",
   "metadata": {},
   "outputs": [],
   "source": [
    "class Node:\n",
    "    def __init__(self, val, next = None):\n",
    "        self.val = val\n",
    "        self.next = next\n",
    "\n",
    "class LinkedList:\n",
    "    #Constructor\n",
    "    def __init__(self):\n",
    "        self.head = None\n",
    "    \n",
    "    #Append new node to the existing list if the index is not specified or index is greater than the length of the list\n",
    "    #Insert in the middle if the index is specified\n",
    "    #If index is less than 0, then it raises TypeError\n",
    "    def insert(self, val: \"Any Data Types\", index = None) -> None:\n",
    "        # Create a new node\n",
    "        newNode = Node(val)\n",
    "        \n",
    "        # if index is specified and index less than 0, raise an exception\n",
    "        if index and index < 0:\n",
    "            raise TypeError(\"Only positive integers are allowed\")\n",
    "        \n",
    "        # if self.head is None and index is a postive integer, link self.head to the newNode\n",
    "        elif not self.head:\n",
    "            self.head = newNode\n",
    "        \n",
    "        # if index is not specified (index is None), then insert the newNode to the end of the list\n",
    "        elif not index:\n",
    "            currentPtr = self.head\n",
    "            while currentPtr.next:\n",
    "                currentPtr = currentPtr.next\n",
    "            currentPtr.next = newNode\n",
    "        \n",
    "        # if index is specified, then index could be, 0 to n where n is any positive interger.\n",
    "        else:\n",
    "            sentinel = Node(-1)\n",
    "            previousPointer = sentinel\n",
    "            previousPointer.next = self.head\n",
    "            currentPointer = self.head\n",
    "            while index and currentPointer:\n",
    "                currentPointer = currentPointer.next\n",
    "                previousPointer = previousPointer.next\n",
    "                index -= 1\n",
    "            previousPointer.next = newNode\n",
    "            previousPointer = previousPointer.next\n",
    "            previousPointer.next = currentPointer\n",
    "            self.head = sentinel.next\n",
    "    \n",
    "    # String representation        \n",
    "    def __str__(self) -> \"String\":\n",
    "        string = \"\"\n",
    "        curr = self.head\n",
    "        while curr:\n",
    "            string += \"{} -> \".format(curr.val)\n",
    "            curr = curr.next\n",
    "        string = string.rstrip(\" -> \")\n",
    "        return string"
   ]
  },
  {
   "cell_type": "code",
   "execution_count": 65,
   "id": "347661c2",
   "metadata": {},
   "outputs": [
    {
     "name": "stdout",
     "output_type": "stream",
     "text": [
      "0 -> 1 -> 2 -> 3 -> 4\n"
     ]
    }
   ],
   "source": [
    "# Test Cases\n",
    "l1 = LinkedList()\n",
    "l1.insert(0)\n",
    "l1.insert(2)\n",
    "l1.insert(1, 1)\n",
    "l1.insert(3, 10000)\n",
    "l1.insert(4)\n",
    "print(l1)"
   ]
  },
  {
   "cell_type": "markdown",
   "id": "1d13c3ad",
   "metadata": {},
   "source": [
    "### As you can see above, the class is defined in one cell while the test cases are written in another cell!"
   ]
  },
  {
   "cell_type": "markdown",
   "id": "e69c55dc",
   "metadata": {},
   "source": [
    "### Let's say you forget to add a method in the class and your program has been running for hours. How could you add a new method without interrupting the running program? \n",
    "\n",
    "### I will show you below"
   ]
  },
  {
   "cell_type": "code",
   "execution_count": 66,
   "id": "a63cd0e7",
   "metadata": {},
   "outputs": [],
   "source": [
    "# Let's say we want to add remove method to our class\n",
    "\n",
    "#Remove the last node from the list if index is not defined or index is out of bound\n",
    "#Remove the ith index node if index is defined\n",
    "#Raise TypeError if index is less than 0\n",
    "def remove(self, index = None) -> None:\n",
    "    #Using dummyNode to streamline the process of removing a node\n",
    "    sentinel = Node(-1)\n",
    "    prev = sentinel\n",
    "    prev.next = self.head\n",
    "    curr = self.head\n",
    "    \n",
    "    #if self.head is empty, raise an exception\n",
    "    if not self.head:\n",
    "        raise TypeError(\"Cannot remove. List is empty.\")\n",
    "    \n",
    "    #if value is less than 0, raise an exception\n",
    "    elif index and index < 0:\n",
    "        raise TypeError(\"Index must be a positive integer\")\n",
    "    \n",
    "    #if index is None, then remove the last node\n",
    "    elif index is None:\n",
    "        while curr.next:\n",
    "            curr = curr.next\n",
    "            prev = prev.next\n",
    "        prev.next = curr.next\n",
    "           \n",
    "    #if index is defined, index could be 0 to n where n is a positive integer\n",
    "    else:\n",
    "        while index and curr.next:\n",
    "            curr = curr.next\n",
    "            prev = prev.next\n",
    "            index -= 1\n",
    "        prev.next = curr.next\n",
    "        \n",
    "    self.head = sentinel.next\n",
    "    \n",
    "# link the method to the class method\n",
    "LinkedList.remove = remove"
   ]
  },
  {
   "cell_type": "code",
   "execution_count": 67,
   "id": "92f67b98",
   "metadata": {},
   "outputs": [
    {
     "name": "stdout",
     "output_type": "stream",
     "text": [
      "0 -> 1 -> 2 -> 3 -> 4\n",
      "1 -> 2 -> 3 -> 4\n"
     ]
    }
   ],
   "source": [
    "# Test Cases\n",
    "\n",
    "#Printing all the nodes in the list\n",
    "print(l1)\n",
    "\n",
    "#Remove the last node\n",
    "# l1.remove()\n",
    "# print(l1)\n",
    "\n",
    "#Remove the first node\n",
    "l1.remove(0)\n",
    "print(l1)\n",
    "\n",
    "#Remove one of the middle node\n",
    "# l1.remove(1)\n",
    "# print(l1)"
   ]
  },
  {
   "cell_type": "markdown",
   "id": "08205807",
   "metadata": {},
   "source": [
    "[![Open In Colab](https://colab.research.google.com/assets/colab-badge.svg)](https://colab.research.google.com/github/kassupto007/artificial_intelligence_assignment_2/blob/main/Assignment_2.ipynb)"
   ]
  },
  {
   "cell_type": "code",
   "execution_count": null,
   "id": "a6ad0483",
   "metadata": {},
   "outputs": [],
   "source": []
  }
 ],
 "metadata": {
  "kernelspec": {
   "display_name": "Python 3",
   "language": "python",
   "name": "python3"
  },
  "language_info": {
   "codemirror_mode": {
    "name": "ipython",
    "version": 3
   },
   "file_extension": ".py",
   "mimetype": "text/x-python",
   "name": "python",
   "nbconvert_exporter": "python",
   "pygments_lexer": "ipython3",
   "version": "3.8.8"
  }
 },
 "nbformat": 4,
 "nbformat_minor": 5
}
